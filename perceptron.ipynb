{
 "cells": [
  {
   "attachments": {},
   "cell_type": "markdown",
   "metadata": {},
   "source": [
    "# Pregunta 2\n",
    "| Autor          |  Carnet  |\n",
    "|----------------|----------|\n",
    "|Leonel Guerrero | 18-10638 |\n",
    "\n",
    "Implementación del perceptrón de Rosenblatt para multiples clases\n"
   ]
  },
  {
   "attachments": {},
   "cell_type": "markdown",
   "metadata": {},
   "source": [
    "## Configuración general del algoritmo\n",
    "\n",
    "En la siguiente celda podrá configurar la cantidad de clases, y los archivos (en formato csv) desde donde se extraerán las instancias de los vectores"
   ]
  },
  {
   "cell_type": "code",
   "execution_count": 1,
   "metadata": {},
   "outputs": [
    {
     "name": "stdout",
     "output_type": "stream",
     "text": [
      "3856\n"
     ]
    }
   ],
   "source": [
    "# Numero de clases\n",
    "number_of_classes = 2\n",
    "# Archivos de datos\n",
    "files = ['data/LifeSci.csv', 'data/Agri.csv'] # 'data/LifeSci.csv', 'data/Agri.csv'; data/EarthSpace.csv', 'data/MedSci.csv'\n",
    "# Intervalo de valores para los pesos\n",
    "interval_of_weights = [-0.05, 0.05]\n",
    "# Número máximo de épocas\n",
    "max_number_of_epochs = 100\n",
    "# Tasas de aprendizaje\n",
    "learning_rates = [0.001, 0.01, 0.1]\n",
    "\n",
    "if len(files) != number_of_classes:\n",
    "    print(\"Error: the number of files must be equal to the number of classes\")\n",
    "    exit(1)\n",
    "\n",
    "# Vector de instancias, de la forma [(X,d)]\n",
    "x: 'list[list[list,list]]' = []\n",
    "\n",
    "# Construimos el vector de las instancias de todos los archivos, agregando a cada instancia el sesgo\n",
    "for index, file in enumerate(files):\n",
    "    with open(file) as f:\n",
    "        instances = []\n",
    "        for line in f:\n",
    "            instance = [1] + [float(x) for x in line.split(',')]\n",
    "            wanted_output = [1 if index == i else 0 for i in range(number_of_classes)]\n",
    "            # Guardamos la instancia y el vector de salida deseada (x,d)\n",
    "            instances.append([instance, wanted_output])\n",
    "\n",
    "        x += instances\n",
    "\n",
    "print(len(x))\n",
    "\n",
    "# Se utilizara la función signo para la transferencia\n",
    "transfer_function = lambda x: 1 if x >= 0 else 0\n"
   ]
  },
  {
   "attachments": {},
   "cell_type": "markdown",
   "metadata": {},
   "source": [
    "### Funciones auxiliares\n",
    "\n",
    "Por favor ejecute la siguiente celda para cargar las funciones auxiliares que se utilizarán en el algoritmo"
   ]
  },
  {
   "cell_type": "code",
   "execution_count": 2,
   "metadata": {},
   "outputs": [],
   "source": [
    "def calculate_output(w: 'list[list[float]]', x: 'list[float]') -> 'list[float]':\n",
    "    \"\"\"\n",
    "    Calcula la salida de las k neuronas\n",
    "    \"\"\"\n",
    "    return [transfer_function(sum([w[i][j] * x[j] for j in range(len(x))])) for i in range(len(w))]\n",
    "\n",
    "def calculate_error(y: 'list[float]', d: 'list[float]') -> 'list[float]':\n",
    "    \"\"\"\n",
    "    Calcula el error de las k neuronas\n",
    "    \"\"\"\n",
    "    return [d[i] - y[i] for i in range(len(y))]\n",
    "\n",
    "def update_weights(w: 'list[list[float]]', x: 'list[float]', e: 'list[float]', learning_rate: float) -> 'list[list[float]]':\n",
    "    \"\"\"\n",
    "    Actualiza los pesos de las k neuronas\n",
    "    \"\"\"\n",
    "    return [[w[i][j] + learning_rate * e[i] * x[j] for j in range(len(x))] for i in range(len(w))]\n",
    "\n",
    "def number_of_misclassified_instances(x: 'list[list[list,list]]', w: 'list[list[float]]') -> float:\n",
    "    \"\"\"\n",
    "    Calcula la precisión del perceptrón\n",
    "    \"\"\"\n",
    "    # Calculamos la salida de las k neuronas para cada instancia\n",
    "    outputs = [calculate_output(w, instance[0]) for instance in x]\n",
    "\n",
    "    # Calculamos el error de las k neuronas para cada instancia\n",
    "    errors = [calculate_error(outputs[i], x[i][1]) for i in range(len(x))]\n",
    "\n",
    "    # Calculamos el número de instancias mal clasificadas\n",
    "    number_of_misclassified_instances = sum([1 if sum([abs(error) for error in errors[i]]) > 0 else 0 for i in range(len(x))])\n",
    "\n",
    "    return number_of_misclassified_instances\n",
    "\n",
    "def calculate_accuracy(number_of_misclassified_instances: float, number_of_instances: float) -> float:\n",
    "    \"\"\"\n",
    "    Calcula la precisión del perceptrón\n",
    "    \"\"\"\n",
    "    return 1 - number_of_misclassified_instances / len(number_of_instances)\n",
    "\n",
    "def save_results(file: str, epochs: 'list[int]', accuracies: 'list[float]'):\n",
    "    \"\"\"\n",
    "    Guarda los resultados en un archivo, guarda las épocas y la precisión\n",
    "    \"\"\"\n",
    "    with open(file, 'w') as f:\n",
    "        f.write('Epoch,Accuracy\\n')\n",
    "        for epoch, accuracy in zip(epochs, accuracies):\n",
    "            f.write(f'{epoch},{accuracy}\\n')"
   ]
  },
  {
   "attachments": {},
   "cell_type": "markdown",
   "metadata": {},
   "source": [
    "## Algoritmo del Perceptrón para multiples clases"
   ]
  },
  {
   "cell_type": "code",
   "execution_count": 3,
   "metadata": {},
   "outputs": [],
   "source": [
    "import random\n",
    "\n",
    "def perceptron(learning_rate: float):\n",
    "    # Inicialización de las listas de épocas y precisión para guardar los resultados\n",
    "    epochs, accuracies = [], []\n",
    "    # Algoritmo del perceptrón\n",
    "\n",
    "    # Inicialización del perceptrón\n",
    "    # Inicialización de la tasa de aprendizaje, la época inicial y el número máximo de épocas\n",
    "    n, epoch = learning_rate, 0\n",
    "    MaxEpoch = max_number_of_epochs\n",
    "    # Inicialización de la matriz de pesos mas inicialización del sesgo\n",
    "    w = []\n",
    "    for _ in range(number_of_classes):\n",
    "        # list comprehension for initializing the weights with random values\n",
    "        w.append([random.uniform(interval_of_weights[0], interval_of_weights[1]) for _ in range(len(x[0][0]) + 1)])\n",
    "\n",
    "    # Calculamos el numero de patrones mal clasificados\n",
    "    output = calculate_output(w, x[0][0])\n",
    "    # Calculamos el error\n",
    "    error = calculate_error(output, x[0][1])\n",
    "    # Contamos el numero de patrones mal clasificados\n",
    "    number_of_misclassified_patterns = sum([1 if e != 0 else 0 for e in error])\n",
    "\n",
    "    # Mientras haya patrones mal clasificados y no se haya alcanzado el número máximo de épocas\n",
    "    # se actualizan los pesos\n",
    "    while number_of_misclassified_patterns > 0 and epoch < MaxEpoch:\n",
    "        # Para cada patron\n",
    "        for instance in x:\n",
    "            # Calculamos la salida de las k neuronas\n",
    "            output = calculate_output(w, instance[0])\n",
    "            # Calculamos el error\n",
    "            error = calculate_error(output, instance[1])\n",
    "            # Actualizamos los pesos\n",
    "            w = update_weights(w, instance[0], error, n)\n",
    "        # Calculamos el numero de instancias mal clasificadas\n",
    "        number_of_misclassified_patterns = number_of_misclassified_instances(x, w)\n",
    "        print(\"Número de instancias mal clasificadas: \", number_of_misclassified_patterns)\n",
    "        print(\"Epoch: \", epoch)\n",
    "        # Si no hay patrones mal clasificados, salimos del bucle\n",
    "        if number_of_misclassified_patterns == 0:\n",
    "            break\n",
    "\n",
    "        # Guardamos los resultados\n",
    "        epochs.append(epoch)\n",
    "        accuracies.append(calculate_accuracy(number_of_misclassified_patterns, x))\n",
    "\n",
    "        # Incrementamos el número de épocas\n",
    "        epoch += 1\n",
    "\n",
    "    print(\"Número de épocas: \", epoch)\n",
    "    accuracy = calculate_accuracy(number_of_misclassified_patterns, x)\n",
    "    print(\"Precisión: \", accuracy)\n",
    "    # Save to file csv\n",
    "    save_results(f'results/LifeSci-Agri_lr_{learning_rate}.csv', epochs, accuracies)"
   ]
  },
  {
   "attachments": {},
   "cell_type": "markdown",
   "metadata": {},
   "source": [
    "## Ejecución del perceptrón para multiples tasas de aprendizaje\n",
    "\n",
    "Se ejecutará el algoritmo para diferentes tasas de aprendizaje, y se mostrará el número de \n",
    "épocas que van pasando junto con la cantidad de instancias mal clasificadas"
   ]
  },
  {
   "cell_type": "code",
   "execution_count": null,
   "metadata": {},
   "outputs": [],
   "source": [
    "for learning_rate in learning_rates:\n",
    "    print(f'Learning rate: {learning_rate}')\n",
    "    perceptron(learning_rate)\n",
    "    print('\\n')"
   ]
  },
  {
   "attachments": {},
   "cell_type": "markdown",
   "metadata": {},
   "source": [
    "La siguiente celda es para ejecutar el perceptrón con tasas de aprendizaje especificas"
   ]
  },
  {
   "cell_type": "code",
   "execution_count": null,
   "metadata": {},
   "outputs": [],
   "source": [
    "perceptron(0.01)"
   ]
  }
 ],
 "metadata": {
  "kernelspec": {
   "display_name": "Python 3",
   "language": "python",
   "name": "python3"
  },
  "language_info": {
   "codemirror_mode": {
    "name": "ipython",
    "version": 3
   },
   "file_extension": ".py",
   "mimetype": "text/x-python",
   "name": "python",
   "nbconvert_exporter": "python",
   "pygments_lexer": "ipython3",
   "version": "3.8.10"
  },
  "orig_nbformat": 4,
  "vscode": {
   "interpreter": {
    "hash": "916dbcbb3f70747c44a77c7bcd40155683ae19c65e1c03b4aa3499c5328201f1"
   }
  }
 },
 "nbformat": 4,
 "nbformat_minor": 2
}
